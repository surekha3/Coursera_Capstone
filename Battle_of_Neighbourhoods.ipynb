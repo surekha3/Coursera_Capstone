{
 "cells": [
  {
   "cell_type": "markdown",
   "metadata": {},
   "source": [
    "#   The Battle of Neighbourhoods"
   ]
  },
  {
   "cell_type": "markdown",
   "metadata": {},
   "source": [
    "## Table of Contents\n",
    "1. Business problem\n",
    "2. Data description"
   ]
  },
  {
   "cell_type": "markdown",
   "metadata": {},
   "source": [
    "### Description of a problem"
   ]
  },
  {
   "cell_type": "markdown",
   "metadata": {},
   "source": [
    "**A relocator advisor has to make recommendations to person who has a job offer in Queens, NewYork city**"
   ]
  },
  {
   "cell_type": "markdown",
   "metadata": {},
   "source": [
    "*The client wants to maintain a peaceful life environment*\n",
    "- They want to keep the habit of taking walks in gardens,\n",
    "- is picky eater (they wants good set of restaurants),\n",
    "- good home locality having main localities reachable,\n",
    "- most of all away from congestion and public transport problems!"
   ]
  },
  {
   "cell_type": "markdown",
   "metadata": {},
   "source": [
    "The client is not able to decide in which neighbourhood he wants to stay for peaceful environment. If there is lots of traffic,\n",
    "congestion and public transport problems, it is difficult for client to stay. So, we will compare venues of all neighbourhoods\n",
    "in Queens borough of New York city to get a good neighbourhood for client to stay"
   ]
  }
 ],
 "metadata": {
  "kernelspec": {
   "display_name": "Python 3",
   "language": "python",
   "name": "python3"
  },
  "language_info": {
   "codemirror_mode": {
    "name": "ipython",
    "version": 3
   },
   "file_extension": ".py",
   "mimetype": "text/x-python",
   "name": "python",
   "nbconvert_exporter": "python",
   "pygments_lexer": "ipython3",
   "version": "3.7.3rc1"
  }
 },
 "nbformat": 4,
 "nbformat_minor": 2
}
