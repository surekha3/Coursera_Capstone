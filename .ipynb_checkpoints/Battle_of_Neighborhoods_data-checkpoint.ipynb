{
 "cells": [
  {
   "cell_type": "markdown",
   "metadata": {},
   "source": [
    "# The Battle of Neighborhoods"
   ]
  },
  {
   "cell_type": "markdown",
   "metadata": {},
   "source": [
    "### Data Description"
   ]
  },
  {
   "cell_type": "markdown",
   "metadata": {},
   "source": [
    "*To consider the problem we can list data as below:*"
   ]
  },
  {
   "cell_type": "markdown",
   "metadata": {},
   "source": [
    "- I found the New York city data from [https://geo.nyu.edu/catalog/nyu_2451_34572]. \n",
    "  The .json file has boroughs and neighbourhoods coordinates of city of New york. I cleaned the data and reduced it to \n",
    "  New York city dataframe where I used it to create a map of clusters of neighbourhoods in city of New York."
   ]
  },
  {
   "cell_type": "markdown",
   "metadata": {},
   "source": [
    "- I will use Foursquare API to get the most common venues of given Borough of New York city"
   ]
  },
  {
   "cell_type": "markdown",
   "metadata": {},
   "source": [
    "- Based on types of most common venues in particular neighbourhoods, we can able to decide which is more suitable for living.\n",
    "  Also we have a good guide to explore particular in given link\n",
    "  [https://www.nycgo.com/boroughs-neighborhoods/queens]"
   ]
  },
  {
   "cell_type": "markdown",
   "metadata": {},
   "source": [
    "- Using Foursquare API, we can explore all the venues in all neighbourhoods of particular borough and get the most commonly\n",
    "  present ones and decide which neighbourhood is good to live"
   ]
  }
 ],
 "metadata": {
  "kernelspec": {
   "display_name": "Python 3",
   "language": "python",
   "name": "python3"
  },
  "language_info": {
   "codemirror_mode": {
    "name": "ipython",
    "version": 3
   },
   "file_extension": ".py",
   "mimetype": "text/x-python",
   "name": "python",
   "nbconvert_exporter": "python",
   "pygments_lexer": "ipython3",
   "version": "3.7.3rc1"
  }
 },
 "nbformat": 4,
 "nbformat_minor": 2
}
