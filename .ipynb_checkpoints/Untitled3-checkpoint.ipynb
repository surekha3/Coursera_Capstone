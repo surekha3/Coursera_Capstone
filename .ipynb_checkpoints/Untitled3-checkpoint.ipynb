{
 "cells": [
  {
   "cell_type": "markdown",
   "metadata": {},
   "source": [
    "# The Battle of Neighborhoods Report"
   ]
  },
  {
   "cell_type": "markdown",
   "metadata": {},
   "source": [
    "## Table of Contents"
   ]
  },
  {
   "cell_type": "markdown",
   "metadata": {},
   "source": [
    "- Introduction of Business problem\n",
    "- Data required\n",
    "- Methodology\n",
    "- Results\n",
    "- Discussions\n",
    "- Conclusion"
   ]
  },
  {
   "cell_type": "markdown",
   "metadata": {},
   "source": [
    "### Introduction and Background"
   ]
  },
  {
   "cell_type": "markdown",
   "metadata": {},
   "source": [
    "**Background:** Toronto is the provincial capital of Ontario and most populas city in Canada.It is fastest growing city in North America.\n",
    "    Toronto is an international centre of business, finance, arts, and culture, and is recognized as one of the most multicultural and cosmopolitan cities in the world.\n",
    "    York was renamed and incorporated in 1834 as the city of Toronto\n",
    "    \n",
    "**Business problem:** Our client wants to relocate to North York in Toronto city as he got a job offer there. So, for living\n",
    "    there, he want some good neighborhood to live which has all accessbilities and peaceful surroundings.\n",
    "    \n",
    "**Target Audience:** Our target clients can be who wants to live in North York, Toronto, this project helps them to select good\n",
    "    neighborhood to maintain their lifestyle\n",
    "    "
   ]
  },
  {
   "cell_type": "markdown",
   "metadata": {},
   "source": [
    "### Data Required"
   ]
  },
  {
   "attachments": {},
   "cell_type": "markdown",
   "metadata": {},
   "source": [
    "**Data Acquisition:** Toronto city has 11 boroughs and 103 neighborhoods. Inorder to segment these we need a dataset of these and also we need\n",
    "latitudes and longitudes of these neighborhoods. For this data there is a link we refer to:[https://en.wikipedia.org/wiki/List_of_postal_codes_of_Canada:_M]\n",
    "\n",
    "For geo-coordinates of these neighborhoods, we have available dataset in [https://cocl.us/Geospatial_data]. Using Foursquare API, we can able to explore all the venues of these neighborhoods. Based on most common types of venues present in every neighborhoods, We can decide which neighborhood is good place to live based on client requirements\n",
    "\n",
    "**Data Cleaning:** Data from these sources is acquired through web scraping library BeautifulSoup and made it in tabular formats for analysing. Geospatial coordinates data also acquired from csv file and made it also as tabular format. By combining these 2 tables we got structured format data for analysation.\n",
    "\n",
    "**Feature Selection:** We removed the postal codes after above steps as they are not needed for our analysis. From Foursquare API, we extracted 100 common venues of each neighborhood and get the top 10 mostly occured ones. Based on these common venues, we can able to select the best neighborhood for our client to stay. Using Folium library, we have displayed map contains clusters of neighborhoods and analysed.\n",
    "    "
   ]
  },
  {
   "cell_type": "markdown",
   "metadata": {},
   "source": [
    "### Methodology"
   ]
  },
  {
   "attachments": {},
   "cell_type": "markdown",
   "metadata": {},
   "source": [
    "**Exploratory Data Analysis:** By applying Groupby function, we get the venues returned for each neighborhood and got the unique categoried of venues. Created dummy variables for venues present in each neighborhood and made a dataframe from it.\n",
    "Also used groupby to get the frequency count of venue categories in each neighborhood.\n",
    "\n",
    "**Predictive Modelling:** Here, we used machine learning algorithm, KMeans clustering model to cluster neighborhoods based on most common types of venues present in each neighborhood. Actually we get the frequency count of each category. Based on frequency count, we get 10 most common venues for each neighborhood.This KMeans cluster model takes input as 10 most common venues of each neighborhood and based on common venues it clusters neighborhoods. From this, we get 3 clusters where we can decide which neighborhood is suitable for living based on common venues\n"
   ]
  },
  {
   "cell_type": "markdown",
   "metadata": {},
   "source": [
    "### Results"
   ]
  },
  {
   "cell_type": "markdown",
   "metadata": {},
   "source": [
    "From above cluster results, based on common type of venues, we can able to decide in particular neighborhood, what were the places most commonly present. Based on that info, we can able to decide which neighborhood would be suitable for our client.\n",
    "From our data, Neighbourhood Fairview,Henry Farm,Oriole is having all stuff needed in good accessible distance. So, it may be suitable for a family if they had children. For accessibilty purpose, metro stations are also present. This neighborhood is having good amount of clothing stores, restaurants, kids stores, toy stores, etc.,"
   ]
  },
  {
   "cell_type": "markdown",
   "metadata": {},
   "source": [
    "### Discussions:"
   ]
  },
  {
   "cell_type": "markdown",
   "metadata": {},
   "source": [
    "Based on outcome results, Some neighborhoods are having more airports and construction places which are not comfortable to live because of more of traffic and dust. So, we can avoid such places.And also Lawrence Heights,Lawrence Manor is also best suitable as it is also having good amount of store, household items stores, which is mostly liked by ladies. From resultant clusters. we can conclude that avoid places having more number of airports, construction sites, liquor shops. So we can consider other neighborhoods also when these are least common venues"
   ]
  },
  {
   "cell_type": "markdown",
   "metadata": {},
   "source": [
    "### Conclusion:"
   ]
  },
  {
   "cell_type": "markdown",
   "metadata": {},
   "source": [
    "In this study, I analysed the clusters based on most common types of venues of neighborhoods using KMeans machine learning clustering algorithm. This clustering model built 3 clusters based on common venues and displayed particular neighborhoods on folium map. I analysed each cluster along with neighborhoods and venues and based on map, we can able to decide which place is near to more number of traffic places so as to avoid those. Here if the client is foodie, he can opt for good amount of restaurant places. If our client has interest in shopping, he can opt for places which are having good shopping places. Any person don't want to stay in more traffic related places so as to avoid congestion."
   ]
  },
  {
   "cell_type": "code",
   "execution_count": null,
   "metadata": {},
   "outputs": [],
   "source": []
  }
 ],
 "metadata": {
  "kernelspec": {
   "display_name": "Python 3",
   "language": "python",
   "name": "python3"
  },
  "language_info": {
   "codemirror_mode": {
    "name": "ipython",
    "version": 3
   },
   "file_extension": ".py",
   "mimetype": "text/x-python",
   "name": "python",
   "nbconvert_exporter": "python",
   "pygments_lexer": "ipython3",
   "version": "3.7.3rc1"
  }
 },
 "nbformat": 4,
 "nbformat_minor": 2
}
