{
 "cells": [
  {
   "cell_type": "markdown",
   "metadata": {},
   "source": [
    "#   The Battle of Neighbourhoods"
   ]
  },
  {
   "cell_type": "markdown",
   "metadata": {},
   "source": [
    "## Table of Contents\n",
    "1. Business problem\n",
    "2. Data description"
   ]
  },
  {
   "cell_type": "markdown",
   "metadata": {},
   "source": [
    "### Description of a problem"
   ]
  },
  {
   "cell_type": "markdown",
   "metadata": {},
   "source": [
    "**A relocator advisor has to make recommendations to person who has a job offer in Queens, NewYork city**"
   ]
  },
  {
   "cell_type": "markdown",
   "metadata": {},
   "source": [
    "*The client wants to maintain a peaceful life environment*\n",
    "- They want to keep the habit of taking walks in gardens,\n",
    "- is picky eater (they wants good set of restaurants),\n",
    "- good home locality having main localities reachable,\n",
    "- most of all away from congestion and public transport problems!"
   ]
  },
  {
   "cell_type": "markdown",
   "metadata": {},
   "source": [
    "The client is not able to decide in which neighbourhood he wants to stay for peaceful environment. If there is lots of traffic,\n",
    "congestion and public transport problems, it is difficult for client to stay. So, we will compare venues of all neighbourhoods\n",
    "in Queens borough of New York city to get a good neighbourhood for client to stay"
   ]
  },
  {
   "cell_type": "markdown",
   "metadata": {},
   "source": [
    "### Data Description"
   ]
  },
  {
   "cell_type": "markdown",
   "metadata": {},
   "source": [
    "*To consider the problem we can list data as below:*"
   ]
  },
  {
   "cell_type": "markdown",
   "metadata": {},
   "source": [
    "- I found the New York city data from [https://geo.nyu.edu/catalog/nyu_2451_34572]. \n",
    "  The .json file has boroughs and neighbourhoods coordinates of city of New york. I cleaned the data and reduced it to \n",
    "  New York city dataframe where I used it to create a map of clusters of neighbourhoods in city of New York."
   ]
  },
  {
   "cell_type": "markdown",
   "metadata": {},
   "source": [
    "- I will use Foursquare API to get the most common venues of given Borough of New York city"
   ]
  },
  {
   "cell_type": "markdown",
   "metadata": {},
   "source": [
    "- Based on types of most common venues in particular neighbourhoods, we can able to decide which is more suitable for living.\n",
    "  Also we have a good guide to explore particular in given link\n",
    "  [https://www.nycgo.com/boroughs-neighborhoods/queens]"
   ]
  },
  {
   "cell_type": "markdown",
   "metadata": {},
   "source": [
    "- Using Foursquare API, we can explore all the venues in all neighbourhoods of particular borough and get the most commonly\n",
    "  present ones and decide which neighbourhood is good to live"
   ]
  }
 ],
 "metadata": {
  "kernelspec": {
   "display_name": "Python 3",
   "language": "python",
   "name": "python3"
  },
  "language_info": {
   "codemirror_mode": {
    "name": "ipython",
    "version": 3
   },
   "file_extension": ".py",
   "mimetype": "text/x-python",
   "name": "python",
   "nbconvert_exporter": "python",
   "pygments_lexer": "ipython3",
   "version": "3.7.3rc1"
  }
 },
 "nbformat": 4,
 "nbformat_minor": 2
}
